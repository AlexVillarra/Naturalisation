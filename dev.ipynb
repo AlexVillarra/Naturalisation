{
 "metadata": {
  "language_info": {
   "codemirror_mode": {
    "name": "ipython",
    "version": 3
   },
   "file_extension": ".py",
   "mimetype": "text/x-python",
   "name": "python",
   "nbconvert_exporter": "python",
   "pygments_lexer": "ipython3",
   "version": "3.9.1"
  },
  "orig_nbformat": 2,
  "kernelspec": {
   "name": "python391jvsc74a57bd0478afeb8bea9a613deb43aac7cde1d5b7a19b84eee662d1039ff3cdd07cab283",
   "display_name": "Python 3.9.1 64-bit"
  },
  "metadata": {
   "interpreter": {
    "hash": "478afeb8bea9a613deb43aac7cde1d5b7a19b84eee662d1039ff3cdd07cab283"
   }
  }
 },
 "nbformat": 4,
 "nbformat_minor": 2,
 "cells": [
  {
   "cell_type": "code",
   "execution_count": 4,
   "metadata": {},
   "outputs": [],
   "source": [
    "import os\n",
    "import csv\n",
    "import dateparser\n",
    "import re\n",
    "import json\n",
    "from typing import Union, Tuple\n",
    "from py_pdf_parser import loaders\n",
    "from py_pdf_parser.components import PDFDocument, PDFPage, PDFElement\n",
    "from datetime import datetime"
   ]
  },
  {
   "cell_type": "code",
   "execution_count": 4,
   "metadata": {},
   "outputs": [],
   "source": [
    "reader = loaders.load_file(r\"JOs\\joe_20210321_0069_c000.pdf\")"
   ]
  },
  {
   "cell_type": "code",
   "execution_count": 5,
   "metadata": {},
   "outputs": [],
   "source": [
    "page = reader.get_page(3)"
   ]
  },
  {
   "cell_type": "code",
   "execution_count": 6,
   "metadata": {},
   "outputs": [],
   "source": [
    "if len(page.elements.filter_by_text_contains(\"Décrète\")) > 0:\n",
    "    before = page.elements.before(page.elements.filter_by_text_contains(\"Décrète\").extract_single_element())\n",
    "    raw = page.elements.after(page.elements.filter_by_text_contains(\"Décrète\").extract_single_element())\n",
    "else:\n",
    "    before = []\n",
    "    raw = page.elements"
   ]
  },
  {
   "cell_type": "code",
   "execution_count": 7,
   "metadata": {},
   "outputs": [
    {
     "output_type": "execute_result",
     "data": {
      "text/plain": [
       "3"
      ]
     },
     "metadata": {},
     "execution_count": 7
    }
   ],
   "source": [
    "a.get_decrees_count(reader)"
   ]
  },
  {
   "cell_type": "code",
   "execution_count": 8,
   "metadata": {},
   "outputs": [
    {
     "output_type": "execute_result",
     "data": {
      "text/plain": [
       "142"
      ]
     },
     "metadata": {},
     "execution_count": 8
    }
   ],
   "source": [
    "reader.number_of_pages"
   ]
  },
  {
   "cell_type": "code",
   "execution_count": 9,
   "metadata": {},
   "outputs": [],
   "source": [
    "mega_string = \"\""
   ]
  },
  {
   "cell_type": "code",
   "execution_count": 10,
   "metadata": {},
   "outputs": [],
   "source": [
    "for i in range(2,reader.number_of_pages+1):\n",
    "    mega_string = mega_string+\" \"+\" \".join([re.sub(r\"\\s+|\\t+|\\n\",\" \",ele.text()).strip() for ele in reader.get_page(i).elements]).split(\"JOURNAL  OFFICIEL  DE  LA  RÉPUBLIQUE  FRANÇAISE \")[-1]"
   ]
  },
  {
   "cell_type": "code",
   "execution_count": 11,
   "metadata": {},
   "outputs": [],
   "source": [
    "pattern = re.compile(r\"([A-Z\\-]*\\s\\(([a-z-A-Z\\s\\,\\-À-ÿ\\’]*){1,9}\\)\\,)(.*?)(\\,\\sdpt\\s[0-9]{2,3}|\\,\\sdép\\.\\s[0-9]{2,3}){1}\", re.UNICODE)"
   ]
  },
  {
   "cell_type": "code",
   "execution_count": 12,
   "metadata": {},
   "outputs": [],
   "source": [
    "last_bit = \"Naturalisations et réintégrations Décret du 26 février 2021 rapportant un décret de naturalisation NOR : INTN2100355D Par décret en date du 26 février 2021, sur l’avis conforme du Conseil d’Etat, est rapporté le décret du 14 février 2018 (Journal officiel du 16 février 2018) portant naturalisation de: Mme NGAMALEU TIAKO Béatrice née le 1er mars 1979 à Douala (Cameroun), 2017X025985.\""
   ]
  },
  {
   "cell_type": "code",
   "execution_count": 13,
   "metadata": {},
   "outputs": [],
   "source": [
    "mini_string = mega_string[0:5177] + last_bit"
   ]
  },
  {
   "cell_type": "code",
   "execution_count": 14,
   "metadata": {},
   "outputs": [],
   "source": [
    "mini_string_old = \"ABACHICH (Lakbira), née le 31/12/1946 à Tasdermt (Maroc), NAT, 2020X 014555, dép. 006, Dt. 006/1. ABADA (Aymen), né le 03/02/1985 à Sousse (Tunisie), NAT, 2020X 014556, dép. 006, Dt. 006/2. ABADA (Selima), née le 28/05/2014 à Nice (06300), EFF, 2020X 014556, dép. 006, Dt. 006/3. ABADA (Soulaymen, Sadak), né le 10/05/2018 à Nice (06300), EFF, 2020X 014556, dép. 006 AARIF (Sonia), au lieu de AARIF (Sounia), née le 01-05-2006, à Oujda (Maroc), Dt. FR 602/1 - 2020F 000365, dpt 075 AIT-YOUCEF (Aldjia, Françoise), au lieu de AIT-YOUCEF (Aldjia), née le 11-06-1984, à Azazga (Algérie), Dt. FR 602/2 - 2020F 000150, dpt 99 ALTIN (Céline), au lieu de ALTIN (Rojin), née le 27-12-2007, à Nevers (58000), Dt. FR 602/6 - 2021F 000095, dpt 058 UPON, et afin que (DYLAN) s’appelle COLLIN SENGA-ZAKOS OU DUVAL SENGA-ZAKOS OU ou DUPON. 21 mars 2021 Texte 109 JOURNAL OFFICIEL DE LA RÉPUBLIQUE FRANÇAISE ANNONCES Les annonces sont reçues à la direction de l’information légale et administrative Demandes de changement de nom : téléprocédure sécurisée Fiche pratique disponible sur https://psl.service-public.fr/mademarche/pub-changement-nom/demarche Autres annonces : annonces.jorf@dila.gouv.fr ou DILA, DIRE JOURNAUX OFFICIELS, TSA No 71641, 75901 PARIS CEDEX 15 (L'Administration décline toute responsabilité quant à la teneur des annonces.) DEMANDES DE CHANGEMENT DE NOM No 01959 Mme BEN-TAYEB (VIRGINIE, CATHY, GAELLE), née le 7 août 1985 à NEMOURS, 77140, FRANCE, demeurant APPT 2506, BATIMENT 11, 25 RUE DES GRANGES, MORET SUR LOING, MORET LOING ET ORVANNE, 77250, dépose une requête auprès du garde des sceaux afin de s’appeler à l’avenir ZENHAKER. ISSN 0373-0425 La Directrice de l’information légale et administrative : Anne DUCLOS-GRISIER\""
   ]
  },
  {
   "cell_type": "code",
   "execution_count": 15,
   "metadata": {},
   "outputs": [
    {
     "output_type": "execute_result",
     "data": {
      "text/plain": [
       "' 21 mars 2021 Texte 69 JOURNAL OFFICIEL DE LA RÉPUBLIQUE FRANÇAISE Naturalisations et réintégrations Décret du 19 mars 2021 portant naturalisation, réintégration, mention d’enfants mineurs bénéficiant de l’effet collectif attaché à l’acquisition de la nationalité française par leurs parents et francisation de noms et de prénoms NOR : INTN2104968D Le Premier ministre, Sur le rapport du ministre de l’intérieur, Vu le code civil, notamment ses articles 17 à 32 ; Vu la loi no 72-964 du 25 octobre 1972 modifiée relative à la francisation des noms et prénoms des personnes qui acquièrent, recouvrent ou se font reconnaître la nationalité française, Décrète : Art. 1er. – Sont naturalisés Français, réintégrés dans la nationalité française et saisis par l’effet collectif attaché à l’acquisition de la nationalité française par leurs parents les étrangers dont les noms suivent : ABACHICH (Lakbira), née le 31/12/1946 à Tasdermt (Maroc), NAT, 2020X 014555, dép. 006, Dt. 006/1. ABADA (Aymen), né le 03/02/1985 à Sousse (Tunisie), NAT, 2020X 014556, dép. 006, Dt. 006/2. ABADA (Selima), née le 28/05/2014 à Nice (06300), EFF, 2020X 014556, dép. 006, Dt. 006/3. ABADA (Soulaymen, Sadak), né le 10/05/2018 à Nice (06300), EFF, 2020X 014556, dép. 006, Dt. 006/4. ABAGANA (Abdelmalik), né le 13/05/1987 à N’Djaména (Tchad), NAT, 2020X 014343, dép. 021, Dt. 006/5. ABASSI (Islah), née le 21/05/1987 à Bouankoud Tizi Ousli (Maroc), NAT, 2020X 013415, dép. 030, Dt. 006/6. ABAZA (Messaouda), née le 24/03/1955 à Ghomrassen (Tunisie), NAT, 2020X 012890, dép. 093, Dt. 006/7. ABBASSI (Safia), née le 03/07/1969 à Tunis (Tunisie), NAT, 2011X 027740, dép. 094, Dt. 006/8. ABBOU (Abderrahim), né le 06/11/1972 à Meknès (Maroc), NAT, 2020X 004953, dép. 078, Dt. 006/9. ABDALLAH (Chadiyat), née le 03/11/1987 à Ouellah Itsandra (Comores), NAT, 2020X 029650, dép. 974, Dt. 006/10. ABDALLAH MAHAMOUD (Régine), née le 11/06/1998 à Barakani (Comores), NAT, 2020X 013473, dép. 976, Dt. 006/11. ABDELALI (Mehdi), né le 20/01/1980 à Constantine (Algérie), NAT, 2020X 012552, dép. 094, Dt. 006/12. ABDELALI (Mélissa, Hana), née le 26/07/2018 à Paris 12e (75012), EFF, 2020X 012552, dép. 094, Dt. 006/13. ABDELALIM (Kaoutar), née le 10/07/1992 à Casablanca (Maroc), NAT, 2020X 013223, dép. 054, Dt. 006/14. ABDELKADER (Abdelkader), né le 11/03/1981 à Lahlef (Algérie), NAT, 2020X 013848, dép. 051, Dt. 006/15. ABDELKHALEK (Amir), né le 26/02/2020 à Antony (92160), EFF, 2020X 011106, dép. 092, Dt. 006/16. ABDELKHALEK (Omar), né le 06/07/1985 à Sousse (Tunisie), NAT, 2020X 011106, dép. 092, Dt. 006/17. ABDELMOUMENE (Mohamed, Aniss), né le 11/07/1991 à El Biar (Algérie), NAT, 2020X 011266, dép. 094, Dt. 006/18. ABDES (Karim), né le 08/11/1989 à Azazga (Algérie), NAT, 2020X 014281, dép. 093, Dt. 006/19. ABDESSALAM (Hichem), né le 04/09/1985 à El Jem (Tunisie), NAT, 2020X 012502, dép. 069, Dt. 006/20. ABDESSALAM (Iyed), né le 06/02/2019 à Mâcon (71000), EFF, 2020X 012502, dép. 069, Dt. 006/21. ABDORAHMAN AHMED (Yagoub), né le 10/05/1979 à Angabu (Soudan), NAT, 2020X 014300, dép. 021, Dt. 006/22. ABDOU CHAKOUR (Narjesse), née le 23/08/1998 à Moroni (Comores), NAT, 2020X 014585, dép. 021, Dt. 006/23. ABDOUN (Elodie, Ouiza), née le 30/09/2020 à Paris 12e (75012), EFF, 2020X 300808, dép. 075, Dt. 006/24. ABDOUN (Jugurtha), né le 15/04/1981 à Larbaa Nath Irathen (Algérie), NAT, 2020X 300808, dép. 075, Dt. 006/25. ABED (Ahmed), né le 26/06/1999 à Sousse (Tunisie), NAT, 2020X 003558, dép. 006, Dt. 006/26. ABOU HASSAN (Sary), né le 21/05/1997 à Alep (Syrie), NAT, 2020X 023251, dép. 075, Dt. 006/27. ABOULKACEM (Feriel), née le 06/08/1990 à Kouba (Algérie), NAT, 2020X 013878, dép. 075, Dt. 006/28. ABRAHAMYAN (Enrik), né le 09/04/1996 à Erévan (Arménie), NAT, 2020X 010977, dép. 057, Dt. 006/29. ABRAHAMYAN (Tigran), né le 05/06/1971 à Erévan (Arménie), NAT, 2020X 027558, dép. 057, Dt. 006/30. 21 mars 2021 Texte 69 JOURNAL OFFICIEL DE LA RÉPUBLIQUE FRANÇAISE ABUDUNIYAZI (Adilaguli), née le 05/06/1987 à Tuokexun Région autonome du Xinjiang (Chine), NAT, 2020X 012281, dép. 094, Dt. 006/31. ACHAMLAL (Fadoua), née le 06/01/1995 à Fès (Maroc), NAT, 2020X 029100, dép. 030, Dt. 006/32. ADAME (Naomi, Sabikri), née le 08/09/1994 à Paramaribo (Suriname), NAT, 2020X 012794, dép. 008, Dt. 006/33. ADAMO (Chloé), née le 20/02/2018 à Montpellier (34090), EFF, 2020X 013143, dép. 034, Dt. 006/34. ADAMO (Luca), né le 04/09/1971 à Serramanna (Italie), NAT, 2020X 013143, dép. 034, Dt. 006/35. ADAMPOT (Kiami, Georges, Patou), né le 27/04/2016 à Neuilly-sur-Seine (92200), EFF, 2020X 010653, dép. 092, Dt. 006/36. ADAMPOT (Salomé, Dominique), née le 11/12/2014 à Neuilly-sur-Seine (92200), EFF, 2020X 010653, dép. 092, Dt. 006/37. ADELOU (Aladé, Koudous), né le 19/11/1980 à Lomé (Togo), NAT, 2020X 014937, dép. 078, Dt. 006/38. ADEMI (Art), né le 11/02/2009 à Gjilan (Kosovo), EFF, 2020X 014420, dép. 038, Dt. 006/39. ADEMI (Hajdar), né le 02/01/1979 à Muhovac (Serbie), NAT, 2020X 014420, dép. 038, Dt. 006/40. ADEMI (Nil), né le 06/04/2016 à La Tronche (38700), EFF, 2020X 014420, dép. 038, Dt. 006/41. ADEMI (Nila), née le 06/04/2016 à La Tronche (38700), EFF, 2020X 014420, dép. 038, Dt. 006/42.Naturalisations et réintégrations Décret du 26 février 2021 rapportant un décret de naturalisation NOR : INTN2100355D Par décret en date du 26 février 2021, sur l’avis conforme du Conseil d’Etat, est rapporté le décret du 14 février 2018 (Journal officiel du 16 février 2018) portant naturalisation de: Mme NGAMALEU TIAKO Béatrice née le 1er mars 1979 à Douala (Cameroun), 2017X025985.'"
      ]
     },
     "metadata": {},
     "execution_count": 15
    }
   ],
   "source": [
    "mini_string"
   ]
  },
  {
   "cell_type": "code",
   "execution_count": 16,
   "metadata": {},
   "outputs": [
    {
     "output_type": "execute_result",
     "data": {
      "text/plain": [
       "'ABACHICH (Lakbira), née le 31/12/1946 à Tasdermt (Maroc), NAT, 2020X 014555, dép. 006'"
      ]
     },
     "metadata": {},
     "execution_count": 16
    }
   ],
   "source": [
    "pattern.search(mini_string).group()"
   ]
  },
  {
   "cell_type": "code",
   "execution_count": 17,
   "metadata": {},
   "outputs": [
    {
     "output_type": "execute_result",
     "data": {
      "text/plain": [
       "964"
      ]
     },
     "metadata": {},
     "execution_count": 17
    }
   ],
   "source": [
    "pattern.search(mini_string).end()"
   ]
  },
  {
   "cell_type": "code",
   "execution_count": 18,
   "metadata": {},
   "outputs": [],
   "source": [
    "final = []\n",
    "i=0\n",
    "while i<= re.search(r\"rapportant un décret de naturalisation|portant francisation de noms\", mega_string).start():\n",
    "    if pattern.search(mega_string,pos=i) is not None:\n",
    "        found = pattern.search(mega_string,pos=i).group()\n",
    "        i = pattern.search(mega_string,pos=i).end()\n",
    "        final.append(found)\n",
    "    else: break\n"
   ]
  },
  {
   "cell_type": "code",
   "execution_count": 58,
   "metadata": {},
   "outputs": [
    {
     "output_type": "stream",
     "name": "stdout",
     "text": [
      "ABRAHAMYAN (Enrik), né le 09/04/1996 à Erévan (Arménie), NAT, 2020X 010977, dép. 057\nADJAI (Adélohunkè, Lise-Line), née le 29/08/1990 à Cotonou (Bénin), NAT, 2020X 010059, dép. 091\nAHDJOUDJ (Karim), né le 24/06/1970 à Rouiba (Algérie), NAT, 2020X 010215, dép. 075\nKARAMI (Mohammad Amin), né le 18/03/1998 à Kermanshah (Iran), NAT, 2020X 010661, dép. 091\nALIA (Soundes, Hibet, Rahmen), née le 21/04/2000 à Khenchela (Algérie), NAT, 2020X 010695, dép. 092\nANOAR (Shahrazad), née le 08/04/1989 à Casablanca (Maroc), NAT, 2020X 010656, dép. 092\nBALET (Johan, Ouriel), né le 12/01/1994 à Brazzaville (République du Congo), NAT, 2020X 010885, dép. 068\nBASAID (Zahra), née le 28/05/1992 à Casablanca (Maroc), NAT, 2020X 010693, dép. 092\nBOTHA (Corlia, Leoné), née le 09/05/1983 à Sandton (Afrique du sud), NAT, 2020X 010171, dép. 075\nBOUSSAHA (Malek), né le 09/08/1991 à Tabarka (Tunisie), NAT, 2020X 010816, dép. 074\nBOUZNIF (Khaled), né le 05/12/1992 à Medenine (Tunisie), NAT, 2020X 010837, dép. 091\nCAMPBELL (Jennifer, Lynn), née le 05/01/1968 à Salem, Etat du Massachusetts (Etats-Unis), NAT, 2020X 010896, dép. 030\nCHAHED (Omar), né le 27/03/1991 à Safi (Maroc), NAT, 2020X 010199, dép. 092\nCHEBLI (Driss), né le 16/09/1992 à Marrakech (Maroc), NAT, 2020X 010824, dép. 095\nCHIKHI (Hatime), né le 23/04/1992 à Souk El Arbaa Du Gharb (Maroc), NAT, 2020X 010724, dép. 091\nCIREASA (Cornelia, Elena), née le 19/11/1976 à Resita (Roumanie), NAT, 2020X 010669, dép. 091\nCISSE (Fatoumata, Chérif), née le 20/08/1970 à Sikasso (Mali), NAT, 2020X 010823, dép. 095\nDAHAN (Meryem), née le 27/04/1990 à Béni Mellal (Maroc), NAT, 2020X 010979, dép. 001\nDANVOSSI (Anita), née le 24/02/1978 à Lobogo (Bénin), NAT, 2020X 010088, dép. 062\nDAU (Hai Dang), né le 07/07/1994 à Hanoï (Vietnam), NAT, 2020X 010664, dép. 091\nDERROUSSI (Nadia, Kawtar), née le 19/09/1977 à Oran (Algérie), NAT, 2020X 010671, dép. 091\nDHAR (Ashish), né le 10/06/1989 à North Khalagaon Moulvibazar (Bangladesh), NAT, 2020X 010689, dép. 093\nDHILLON (Sukhdeep, Singh), né le 01/07/1975 à Birmingham (Royaume-Uni), NAT, 2020X 010558, dép. 092\nDIALLO (Aminata), née le 21/11/1999 à Conakry (Guinée), NAT, 2020X 010912, dép. 058\nDOUIDI (Abdelkrim), né le 11/06/1984 à Bougaa (Algérie), NAT, 2020X 010066, dép. 093\nDRICHE (Fatima-Zohra), née le 03/07/1966 à Oran (Algérie), NAT, 2020X 010871, dép. 092\nEHOUSSOU (Desnaux, Cynthia, Abe), née le 29/03/1988 à Treichville Abidjan (Côte d’Ivoire), NAT, 2020X 010867, dép. 067\nALLALI (Sara), née le 09/08/1990 à Agadir (Maroc), NAT, 2020X 010662, dép. 091\nBEJJAJ (Marwa), née le 01/08/1992 à Casablanca (Maroc), NAT, 2020X 010593, dép. 092\nKDIHI (Amine), né le 09/06/1985 à Kénitra (Maroc), NAT, 2020X 010667, dép. 091\nKEBIR (Mehdi), né le 04/11/1991 à Tunis (Tunisie), NAT, 2020X 010678, dép. 092\nMILOUDI (Fouad), né le 10/05/1995 à Tizi Ousli (Maroc), NAT, 2020X 010552, dép. 030\nMOUATEZ (Abdessamad), né le 02/05/1991 à Casablanca (Maroc), NAT, 2020X 010681, dép. 078\nEN-NACIRI (El Mehdi), né le 06/01/1981 à Taroudant (Maroc), NAT, 2020X 010741, dép. 095\nFALL (Fatou), née le 08/01/1966 à Dakar (Sénégal), NAT, 2020X 010673, dép. 093\nFAYAD (Michel), né le 28/05/1989 à Baabda (Liban), NAT, 2020X 010612, dép. 092\nFLORES (Sheyla, Eliana), née le 10/06/1985 à Abancay (Pérou), NAT, 2020X 010935, dép. 092\nFERRAT (Slimane), né le 30/10/1973 à Larbaâ Nath Irathen (Algérie), NAT, 2020X 010001, dép. 080\nGBAPO (Lahoui, Eunice, Laeticia), née le 18/12/1989 à Diégonéfla (Côte d’Ivoire), NAT, 2020X 010679, dép. 092\nGHOSSOUB (Noha), née le 27/01/1958 à El Freikeh (Liban), NAT, 2020X 010677, dép. 092\nGIROD (Pascale, Dominique), née le 08/05/1978 à Brazzaville (République du Congo), NAT, 2020X 010653, dép. 092\nGOETZINGER (Nicole), née le 22/02/1968 à Bascharage (Luxembourg), NAT, 2020X 010400, dép. 032\nHADDADI (Imane), née le 22/03/1993 à Zegangane (Maroc), NAT, 2020X 010682, dép. 092\nMOUSSA (Yacine), né le 23/05/1972 à Alger-Centre (Algérie), NAT, 2020X 010894, dép. 034\nHAMDAD (Saïda), née le 15/04/1981 à Ouled Dlim (Maroc), NAT, 2020X 010285, dép. 075\nHAMMAMI (Chiraz), née le 03/06/1993 à Tunis (Tunisie), NAT, 2020X 010241, dép. 075\nHAMRA (Abed), né le 02/12/1971 à Dahmouni (Algérie), NAT, 2020X 010732, dép. 033\nHED (Saad), né le 23/10/1993 à Casablanca (Maroc), NAT, 2020X 010403, dép. 075\nHMIDA (Yosra), née le 04/05/1990 à Megrine (Tunisie), NAT, 2020X 010658, dép. 092\nIHADADENE (Yacine), né le 21/01/1992 à El Biar (Algérie), NAT, 2020X 010665, dép. 091\nJALILYAN (Mahar), né le 20/09/1994 à Hoktemberyan (Arménie), NAT, 2020X 010910, dép. 002\nJRADI (Hassene), né le 28/07/1983 à Gabès (Tunisie), NAT, 2020X 010654, dép. 092\nKEDDOUCI (Mohammed), né le 03/03/1967 à Oran (Algérie), NAT, 2020X 010670, dép. 091\nKOUASSI (N’Guessan, Marcellin), né le 06/04/1986 à Dimbokro (Côte d’Ivoire), NAT, 2020X 010657, dép. 092\nLAGHA (Aymen), né le 07/08/1982 à Tunis (Tunisie), NAT, 2020X 010899, dép. 030\nLAKHSSASSI (Ali), né le 29/08/1992 à Fès (Maroc), NAT, 2020X 010660, dép. 092\nLUSHI (Lirije), née le 02/08/1992 à Ferizaj (Kosovo), NAT, 2020X 010878, dép. 068\nMESNAOUI (Soumaya), née le 28/12/1985 à Casablanca (Maroc), NAT, 2020X 010781, dép. 075\nMIKPONHOUE (Yann-Carrel, Jefferson, Kisito), né le 02/05/1995 à Cotonou (Bénin), NAT, 2020X 010754, dép. 077\nMOSAWI (Soraya), née le 23/04/1996 à Alichoopan Mazar-E-Sharif (Afghanistan), NAT, 2020X 010655, dép. 092\nMOUJAHED (Salwa), née le 31/10/1984 à Gassin (83580), NAT, 2020X 010992, dép. 083\nKEYI (Thécie), née le 02/02/1978 à Libreville (Gabon), NAT, 2020X 010180, dép. 092\nDRI (N’Gohissai, Ange, Marie, Marguerite), née le 16/09/1990 à Toumodi (Côte d’Ivoire), NAT, 2020X 010697, dép. 092\nNZOUOMBO (Raissa, Judicael), née le 18/05/1989 à Douala (Cameroun), NAT, 2020X 010822, dép. 095\nOZDEMIR (Ufuk, Ilker), né le 10/12/1981 à Elbistan (Turquie), NAT, 2020X 010803, dép. 095\nTEKAM (Ghislaine), née le 02/07/1991 à Baham (Cameroun), NAT, 2020X 010377, dép. 077\nPUVIRAJASINGAM (Rajadurai), né le 29/01/1945 à Sillalai (Ceylan), NAT, 2020X 010817, dép. 077\nRABIA (Naoual), née le 21/10/1969 à Beni Mellal (Maroc), NAT, 2020X 010750, dép. 091\nRAKOTOMALALA (Sahobiniaina, Tiana, Eloïse), née le 13/11/1992 à Ankadifotsy Tananarive (Madagascar), NAT, 2020X 010694, dép. 092\nRHALI (Rachida), née le 01/01/1958 à Marhane El Aounate (Maroc), NAT, 2020X 010989, dép. 009\nSAADOUNI (Benyounès), né le 10/12/1956 à Oujda (Maroc), NAT, 2020X 010843, dép. 093\nSAHOTA (Harmeet, Kaur), née le 03/05/1980 à Birmingham (Royaume-Uni), NAT, 2020X 010559, dép. 092\nSAHRAOUI (Redhouane, Hamza), né le 10/08/1990 à Blida (Algérie), NAT, 2020X 010902, dép. 093\nSAMB (Mouhamadou, Lamine), né le 16/02/1970 à Saint-Louis (Sénégal), NAT, 2020X 010690, dép. 02\nSANG (Xiaoying), née le 03/03/1986 à Ruian, province du Zhejiang (Chine), NAT, 2020X 010011, dép. 093\nSEBRI (Moulay, Mustapha), né le 09/04/1967 à Marrakech (Maroc), NAT, 2020X 010284, dép. 075\nSILUE (Nontonhoua), née le 26/03/1982 à Tioroniaradougou (Côte d’Ivoire), NAT, 2020X 010324, dép. 091\nLAFIA (Faridath), née le 27/06/1994 à Cotonou (Bénin), NAT, 2020X 010838, dép. 093\nTALBI (Lynda), née le 01/03/1988 à Tizi Ouzou (Algérie), NAT, 2020X 010100, dép. 095\nTAVARES (Adelson), né le 26/11/1997 à Nossa Senhora da Graça Praia (Cap-Vert), NAT, 2020X 010821, dép. 095\nVU (Lan Huong), née le 13/10/1977 à Hanoi (Vietnam), NAT, 2020X 010175, dép. 092\nWALI (Safa), née le 14/08/1990 à Menzel Bourguiba (Tunisie), NAT, 2020X 010839, dép. 093\nWAZAD (Mohamed), né le 24/10/1976 à Gennevilliers (92230), NAT, 2020X 010931, dép. 002\nYILDIRMAZ (Cemal), né le 04/08/1975 à Silvan Diyarbakir (Turquie), NAT, 2020X 010126, dép. 095\nYOUSSEF (Gamal), né le 25/06/1963 à Le Caire (Egypte), NAT, 2020X 010672, dép. 093\nZAAROUR (Liliane), née le 10/04/1958 à Jbeil (Liban), NAT, 2020X 010820, dép. 077\nZAGHLOUL (Latifa), née le 09/07/1991 à Sidi Boubker (Maroc), NAT, 2020X 010192, dép. 092\nAKHALKATSI (Tamaz), né le 29/09/1972 à Rustavi (Géorgie), NAT, 2020X 010933, dép. 092\nALLAHYARI (Ilgar), né le 03/01/1987 à Tabriz (Iran), NAT, 2020X 010153, dép. 075\nANDREWES (Annabel, Rosemary), née le 27/08/1979 à Carshalton (Royaume-Uni), NAT, 2020X 010779, dép. 073\nBAI (Saliha), née le 10/09/1963 à M’Sirda Fouaga Marsa Ben M’Hidi (Algérie), NAT, 2020X 010139, dép. 059\nBEGGAH (Kenza), née le 21/01/1983 à Les Eucalyptus Alger (Algérie), NAT, 2020X 010043, dép. 093\nAHMED (Sondes), née le 22/08/1987 à Zaghouan (Tunisie), NAT, 2020X 010243, dép. 075\nBOUABDALLAH (Mohammed), né le 13/01/1965 à Nedroma (Algérie), NAT, 2020X 010138, dép. 059\nBOULAHCHICHE (Mohamed, Amine), né le 12/01/1986 à Kouba (Algérie), NAT, 2020X 010692, dép. 093\nBOUZIANE-OUARTINI (Omar), né le 28/02/1992 à Fès (Maroc), NAT, 2020X 010275, dép. 075\nBREEN (Adam, Cameron), né le 07/08/1978 à Salisbury (Royaume-Uni), NAT, 2020X 010778, dép. 073\nCHENNA (Zine-Eddine), né le 06/11/1985 à Akbou (Algérie), NAT, 2020X 010195, dép. 092\nOSPINA (Angelica, Maria), née le 03/10/1985 à Bogota (Colombie), NAT, 2020X 010519, dép. 069\nCREWS (Timothy, John), né le 10/04/1955 à Kaduna (Nigéria), NAT, 2020X 010567, dép. 016\nDUDYAK (Vassilissa), née le 10/01/1999 à Mykytyntsi Ivano-Frankivsk (Ukraine), NAT, 2020X 010686, dép. 092\nKECHAI (Yaniss), né le 06/01/1987 à Hydra (Algérie), NAT, 2020X 010769, dép. 092\nOUADI (Imane), née le 21/07/1995 à Souk Sebt (Maroc), NAT, 2020X 010222, dép. 084\nOUADI (Yossra), née le 15/12/1999 à Aklim (Maroc), NAT, 2020X 010217, dép. 084\nBRAHIM (Abdelaziz), né le 22/11/1985 à Marrakech (Maroc), NAT, 2020X 010516, dép. 069\nIVANINA (Iryna), née le 27/12/1990 à Féodosiya (Ukraine), NAT, 2020X 010269, dép. 093\nKOUACHI (Anis), né le 05/03/1994 à El Biar (Algérie), NAT, 2020X 010651, dép. 092\nKOUDOU (Christelle, Lisette), née le 03/08/1984 à Port-Bouët Abidjan (Côte d’Ivoire), NAT, 2020X 010145, dép. 078\nMANSOUROV (Omar, Sourkhovitch), né le 13/01/1998 à Grozny (Russie), NAT, 2020X 010314, dép. 091\nMATA (Serge), né le 22/08/1971 à Kinshasa (République Démocratique du Congo), NAT, 2020X 010863, dép. 067\nMFAKKER (Hamid), né le 01/06/1969 à Kénitra (Maroc), NAT, 2020X 010348, dép. 034\nNAQVI (Syeda, Massooma), née le 03/12/1986 à Lahore (Pakistan), NAT, 2020X 010160, dép. 075\nODEPIDAN (Oluwayemisi), née le 01/08/1978 à Ilorin, Etat de Kwara (Nigéria), NAT, 2020X 010972, dép. 092\nSANTOS (Ana, Cristina), née le 22/11/1973 à Luso (Angola), NAT, 2020X 010685, dép. 092\nOUAMEUR (Yakout), née le 07/03/1978 à Annaba (Algérie), NAT, 2020X 010994, dép. 095\nSAADOUNI (Amine), né le 09/01/1982 à Akbou (Algérie), NAT, 2020X 010042, dép. 093\nSAJRI (Abdelouahid), né le 04/04/1981 à Khouribga (Maroc), NAT, 2020X 010652, dép. 092\nSBOUI (Boutheina), née le 21/11/1980 à Kairouan (Tunisie), NAT, 2020X 010699, dép. 092\nWIYPIM (Bienvenue), née le 29/12/1976 à Kinshasa (République Démocratique du Congo), NAT, 2020X 010500, dép. 060\nSLIVCA (Adrian), né le 28/07/1980 à Birnova (Moldavie), NAT, 2020X 010396, dép. 077\nTOUFAYLI (Mohammad, Hassan), né le 08/11/1989 à Chmestar (Liban), NAT, 2020X 010663, dép. 091\nTURCAN (Diana), née le 27/09/1982 à Chisinau (Moldavie), NAT, 2020X 010397, dép. 077\nTWEDDELL (Jane, Marie), née le 07/08/1961 à Leadgate Consett (Royaume-Uni), NAT, 2020X 010813, dép. 038\nMORITA (Francisco), né le 22/05/1977 à Madrid (Espagne), NAT, 2020X 010291, dép. 075\nVERLY (Lesly), né le 01/11/1984 à Port-au-Prince (Haïti), NAT, 2020X 010004, dép. 093\nWAR (Mariem), née le 31/12/1991 à Brazzaville (République du Congo), NAT, 2020X 010688, dép. 091\nWEHBI (Hazem), né le 10/01/1986 à Homs (Syrie), NAT, 2020X 010951, dép. 093\n"
     ]
    }
   ],
   "source": [
    "serie = \"010\"\n",
    "for person in final:\n",
    "    if f\"), NAT, 2020X {serie}\" in person:\n",
    "        print(person)\n",
    "        #print(person.split(f\"), NAT, 2020X {serie}\")[-1].split(\",\")[0])"
   ]
  },
  {
   "cell_type": "code",
   "execution_count": 47,
   "metadata": {},
   "outputs": [
    {
     "output_type": "stream",
     "name": "stdout",
     "text": [
      "ABACHICH (Lakbira), née le 31/12/1946 à Tasdermt (Maroc), NAT, 2020X 014555, dép. 006\n"
     ]
    },
    {
     "output_type": "execute_result",
     "data": {
      "text/plain": [
       "True"
      ]
     },
     "metadata": {},
     "execution_count": 47
    }
   ],
   "source": [
    "print(final[0])\n",
    "\n",
    "\"), NAT, 2020X 014\" in final[0]"
   ]
  },
  {
   "cell_type": "code",
   "execution_count": 1,
   "metadata": {},
   "outputs": [],
   "source": [
    "from reader import Reader"
   ]
  },
  {
   "cell_type": "code",
   "execution_count": 2,
   "metadata": {},
   "outputs": [
    {
     "output_type": "stream",
     "name": "stdout",
     "text": [
      "1\n",
      "4\n",
      "5\n",
      "7\n",
      "10\n",
      "22\n",
      "28\n",
      "32\n",
      "32\n",
      "34\n",
      "37\n",
      "45\n",
      "214\n"
     ]
    }
   ],
   "source": [
    "a = Reader()"
   ]
  },
  {
   "cell_type": "code",
   "execution_count": 3,
   "metadata": {},
   "outputs": [
    {
     "output_type": "execute_result",
     "data": {
      "text/plain": [
       "214"
      ]
     },
     "metadata": {},
     "execution_count": 3
    }
   ],
   "source": [
    "len([lolo for lolo,val in a.naturalized.items() if val])"
   ]
  },
  {
   "cell_type": "code",
   "execution_count": 3,
   "metadata": {},
   "outputs": [
    {
     "output_type": "stream",
     "name": "stdout",
     "text": [
      "Here\n",
      "re.compile('(Décret\\\\sdu)(.*?)(\\\\sNOR){1}')\n",
      "Finished first page\n",
      "Décret modificatif du\n",
      "100 824110\n"
     ]
    }
   ],
   "source": [
    "a.read_pdf(\"JOs\\joe_20210502_0103_c000.pdf\")"
   ]
  },
  {
   "cell_type": "code",
   "execution_count": 5,
   "metadata": {},
   "outputs": [
    {
     "output_type": "stream",
     "name": "stdout",
     "text": [
      "re.compile('(Décret\\\\sdu)(.*?)(\\\\sNOR){1}')\nFinished first page\n"
     ]
    }
   ],
   "source": [
    "reader = loaders.load_file(\"JOs\\joe_20210502_0103_c000.pdf\")\n",
    "page_last = reader.page_numbers[-1]\n",
    "pattern_person = re.compile(r\"([A-Z\\-]*\\s\\(([a-z-A-Z\\s\\,\\-À-ÿ\\’]*){1,9}\\)\\,)(.*?)(\\,\\sdpt\\s[0-9]{2,3}|\\,\\sdép\\.\\s[0-9]{2,3}){1}\", re.UNICODE)\n",
    "pattern_first = re.compile(r\"(Décret\\sdu)(.*?)(\\sNOR){1}\", re.UNICODE)\n",
    "print(pattern_first)\n",
    "first_page=\" \".join([re.sub(r\"\\s+|\\t+|\\n\",\" \",ele.text()).strip() for ele in reader.get_page(1).elements]).split(\"JOURNAL  OFFICIEL  DE  LA  RÉPUBLIQUE  FRANÇAISE \")[-1]\n",
    "print(\"Finished first page\")"
   ]
  },
  {
   "cell_type": "code",
   "execution_count": 7,
   "metadata": {},
   "outputs": [
    {
     "output_type": "stream",
     "name": "stdout",
     "text": [
      "Décret modificatif du\n100 824110\n"
     ]
    }
   ],
   "source": [
    "if \"Décret modificatif du\" in first_page:\n",
    "    if re.search(r\"Décret modificatif du\",first_page).start() > re.search(r\"portant naturalisation\",first_page).start():\n",
    "        pattern_last = r\"Décret modificatif du\"\n",
    "    else:\n",
    "        if \"Annonces\" in first_page:\n",
    "            pattern_last = r\"Les annonces sont reçues à la direction de l’information légale et administrative\"\n",
    "        else:\n",
    "            pattern_last = r\"ISSN\\s[0-9]*\\-{0,1}[0-9]*\"\n",
    "elif \"rapportant un décret de naturalisation\" in first_page:\n",
    "    pattern_last = r\"rapportant un décret de naturalisation\"\n",
    "elif \"Annonces\" in first_page:\n",
    "    pattern_last = r\"Les annonces sont reçues à la direction de l’information légale et administrative\"\n",
    "else:\n",
    "    pattern_last = r\"ISSN\\s[0-9]*\\-{0,1}[0-9]*\"\n",
    "del first_page\n",
    "mega_string = \"\"\n",
    "for i in range(2,page_last+1):\n",
    "    mega_string = mega_string+\" \"+\" \".join([re.sub(r\"\\s+|\\t+|\\n\",\" \",ele.text()).strip() for ele in reader.get_page(i).elements]).split(\"JOURNAL  OFFICIEL  DE  LA  RÉPUBLIQUE  FRANÇAISE \")[-1]\n",
    "del reader\n",
    "final = []\n",
    "print(pattern_last)\n",
    "i = re.search(pattern_first, mega_string).start()\n",
    "final_pos = re.search(pattern_last, mega_string).start()\n",
    "print(i,final_pos)\n",
    "mega_string = mega_string[i:final_pos]\n",
    "del final_pos,i,pattern_first,pattern_last"
   ]
  },
  {
   "cell_type": "code",
   "execution_count": 13,
   "metadata": {},
   "outputs": [],
   "source": [
    "final = [\"\".join(ele) for ele in pattern_person.findall(mega_string)]"
   ]
  },
  {
   "cell_type": "code",
   "execution_count": 15,
   "metadata": {},
   "outputs": [
    {
     "output_type": "execute_result",
     "data": {
      "text/plain": [
       "'DOMINE (Steve, Alain), né le 16/04/1963 à Genève (Suisse), LIB, 2021X 005300, dép. 99'"
      ]
     },
     "metadata": {},
     "execution_count": 15
    }
   ],
   "source": [
    "final[-1]"
   ]
  },
  {
   "cell_type": "code",
   "execution_count": null,
   "metadata": {},
   "outputs": [],
   "source": []
  }
 ]
}