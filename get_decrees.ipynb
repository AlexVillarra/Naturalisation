{
 "metadata": {
  "language_info": {
   "codemirror_mode": {
    "name": "ipython",
    "version": 3
   },
   "file_extension": ".py",
   "mimetype": "text/x-python",
   "name": "python",
   "nbconvert_exporter": "python",
   "pygments_lexer": "ipython3",
   "version": "3.9.1"
  },
  "orig_nbformat": 2,
  "kernelspec": {
   "name": "python391jvsc74a57bd0478afeb8bea9a613deb43aac7cde1d5b7a19b84eee662d1039ff3cdd07cab283",
   "display_name": "Python 3.9.1 64-bit ('Python39': pyenv)"
  },
  "metadata": {
   "interpreter": {
    "hash": "478afeb8bea9a613deb43aac7cde1d5b7a19b84eee662d1039ff3cdd07cab283"
   }
  }
 },
 "nbformat": 4,
 "nbformat_minor": 2,
 "cells": [
  {
   "cell_type": "code",
   "execution_count": 1,
   "metadata": {},
   "outputs": [],
   "source": [
    "from reader import Reader"
   ]
  },
  {
   "cell_type": "code",
   "execution_count": 2,
   "metadata": {},
   "outputs": [
    {
     "output_type": "stream",
     "name": "stdout",
     "text": [
      "Naturalized of serie 027 : 513\n"
     ]
    }
   ],
   "source": [
    "yo = Reader()"
   ]
  },
  {
   "cell_type": "code",
   "execution_count": 3,
   "metadata": {},
   "outputs": [
    {
     "output_type": "stream",
     "name": "stdout",
     "text": [
      "Naturalized of serie 029 : 289\n"
     ]
    }
   ],
   "source": [
    "felipe = Reader(file_decrees = r\"src\\decrees_felipe.json\",file_nat = r\"src\\naturalized_felipe.json\", serie= \"029\")"
   ]
  },
  {
   "cell_type": "code",
   "execution_count": null,
   "metadata": {},
   "outputs": [],
   "source": []
  }
 ]
}