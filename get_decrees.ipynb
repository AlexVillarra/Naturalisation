{
 "metadata": {
  "language_info": {
   "codemirror_mode": {
    "name": "ipython",
    "version": 3
   },
   "file_extension": ".py",
   "mimetype": "text/x-python",
   "name": "python",
   "nbconvert_exporter": "python",
   "pygments_lexer": "ipython3",
   "version": "3.9.1"
  },
  "orig_nbformat": 2,
  "kernelspec": {
   "name": "python3",
   "display_name": "Python 3.9.1 64-bit ('Python39': pyenv)"
  },
  "metadata": {
   "interpreter": {
    "hash": "478afeb8bea9a613deb43aac7cde1d5b7a19b84eee662d1039ff3cdd07cab283"
   }
  },
  "interpreter": {
   "hash": "478afeb8bea9a613deb43aac7cde1d5b7a19b84eee662d1039ff3cdd07cab283"
  }
 },
 "nbformat": 4,
 "nbformat_minor": 2,
 "cells": [
  {
   "cell_type": "code",
   "execution_count": 1,
   "metadata": {},
   "outputs": [],
   "source": [
    "from reader import Reader"
   ]
  },
  {
   "cell_type": "code",
   "execution_count": 2,
   "metadata": {},
   "outputs": [
    {
     "output_type": "stream",
     "name": "stdout",
     "text": [
      "Naturalized of serie 027 : 0\n",
      "Naturalized of serie 027 until Journal of 29/11/2020: 1\n",
      "Naturalized of serie 027 until Journal of 06/12/2020: 4\n",
      "Naturalized of serie 027 until Journal of 09/12/2020: 5\n",
      "Naturalized of serie 027 until Journal of 23/12/2020: 7\n",
      "Naturalized of serie 027 until Journal of 27/12/2020: 10\n",
      "Naturalized of serie 027 until Journal of 21/01/2021: 22\n",
      "Naturalized of serie 027 until Journal of 07/02/2021: 28\n",
      "Naturalized of serie 027 until Journal of 17/02/2021: 32\n",
      "Naturalized of serie 027 until Journal of 24/02/2021: 32\n",
      "Naturalized of serie 027 until Journal of 27/02/2021: 34\n",
      "Naturalized of serie 027 until Journal of 07/03/2021: 37\n",
      "Naturalized of serie 027 until Journal of 21/03/2021: 45\n",
      "Naturalized of serie 027 until Journal of 02/05/2021: 214\n",
      "Naturalized of serie 027 until Journal of 08/05/2021: 282\n",
      "Naturalized of serie 027 until Journal of 13/05/2021: 292\n",
      "Naturalized of serie 027 until Journal of 16/05/2021: 303\n",
      "Naturalized of serie 027 until Journal of 28/05/2021: 364\n",
      "Naturalized of serie 027 until Journal of 09/06/2021: 513\n",
      " VILLARREAL LARRAURI (Alejandro), né le 25/07/1992 à Saltillo Etat de Coahuila (Mexique), NAT, 2020X 027089, dép. 013\n",
      "Naturalized of serie 027 until Journal of 23/06/2021: 615\n"
     ]
    }
   ],
   "source": [
    "yo = Reader()"
   ]
  },
  {
   "cell_type": "code",
   "execution_count": 3,
   "metadata": {},
   "outputs": [
    {
     "output_type": "stream",
     "name": "stdout",
     "text": [
      "Give valid file path to decrees\n",
      "Give valid file path to decrees\n",
      "Naturalized of serie 029 : 0\n",
      "Naturalized of serie 029 until Journal of 29/11/2020: 0\n",
      "Naturalized of serie 029 until Journal of 06/12/2020: 0\n",
      "Naturalized of serie 029 until Journal of 09/12/2020: 0\n",
      "Naturalized of serie 029 until Journal of 23/12/2020: 0\n",
      "Naturalized of serie 029 until Journal of 27/12/2020: 6\n",
      "Naturalized of serie 029 until Journal of 21/01/2021: 9\n",
      "Naturalized of serie 029 until Journal of 07/02/2021: 9\n",
      "Naturalized of serie 029 until Journal of 17/02/2021: 9\n",
      "Naturalized of serie 029 until Journal of 24/02/2021: 11\n",
      "Naturalized of serie 029 until Journal of 27/02/2021: 13\n",
      "Naturalized of serie 029 until Journal of 07/03/2021: 16\n",
      "Naturalized of serie 029 until Journal of 21/03/2021: 22\n",
      "Naturalized of serie 029 until Journal of 02/05/2021: 111\n",
      "Naturalized of serie 029 until Journal of 08/05/2021: 165\n",
      "Naturalized of serie 029 until Journal of 13/05/2021: 221\n",
      "Naturalized of serie 029 until Journal of 16/05/2021: 238\n",
      "Naturalized of serie 029 until Journal of 28/05/2021: 272\n",
      "Naturalized of serie 029 until Journal of 09/06/2021: 289\n",
      "Naturalized of serie 029 until Journal of 23/06/2021: 408\n"
     ]
    }
   ],
   "source": [
    "felipe = Reader(file_decrees = r\"src\\decrees_felipe.json\",file_nat = r\"src\\naturalized_felipe.json\", serie= \"029\")"
   ]
  }
 ]
}