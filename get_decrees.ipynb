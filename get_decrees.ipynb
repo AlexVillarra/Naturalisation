{
 "metadata": {
  "language_info": {
   "codemirror_mode": {
    "name": "ipython",
    "version": 3
   },
   "file_extension": ".py",
   "mimetype": "text/x-python",
   "name": "python",
   "nbconvert_exporter": "python",
   "pygments_lexer": "ipython3",
   "version": "3.9.1"
  },
  "orig_nbformat": 2,
  "kernelspec": {
   "name": "python3",
   "display_name": "Python 3.9.1 64-bit ('Python39': pyenv)"
  },
  "metadata": {
   "interpreter": {
    "hash": "478afeb8bea9a613deb43aac7cde1d5b7a19b84eee662d1039ff3cdd07cab283"
   }
  },
  "interpreter": {
   "hash": "478afeb8bea9a613deb43aac7cde1d5b7a19b84eee662d1039ff3cdd07cab283"
  }
 },
 "nbformat": 4,
 "nbformat_minor": 2,
 "cells": [
  {
   "cell_type": "code",
   "execution_count": 1,
   "metadata": {},
   "outputs": [],
   "source": [
    "from reader import Reader"
   ]
  },
  {
   "cell_type": "code",
   "execution_count": 2,
   "metadata": {},
   "outputs": [
    {
     "output_type": "stream",
     "name": "stdout",
     "text": [
      "Naturalized of serie 027 : 615\n",
      "Naturalized of serie 027 until Journal of 27/06/2021: 689\n"
     ]
    }
   ],
   "source": [
    "yo = Reader()"
   ]
  },
  {
   "cell_type": "code",
   "execution_count": 3,
   "metadata": {},
   "outputs": [
    {
     "output_type": "stream",
     "name": "stdout",
     "text": [
      "Naturalized of serie 029 : 408\n",
      "Naturalized of serie 029 until Journal of 27/06/2021: 575\n"
     ]
    }
   ],
   "source": [
    "felipe = Reader(file_decrees = r\"src\\decrees_felipe.json\",file_nat = r\"src\\naturalized_felipe.json\", serie= \"029\")"
   ]
  },
  {
   "cell_type": "code",
   "execution_count": 4,
   "metadata": {},
   "outputs": [
    {
     "output_type": "execute_result",
     "data": {
      "text/plain": [
       "{'VILLARREAL LARRAURI (Alejandro)': {'date': '23/06/2021'},\n",
       " 'dep': '013',\n",
       " 'country': 'Mexique'}"
      ]
     },
     "metadata": {},
     "execution_count": 4
    }
   ],
   "source": [
    "yo.search_person(first_name=\"Alejandro\",last_name=\"Villarreal\")"
   ]
  },
  {
   "cell_type": "code",
   "execution_count": 5,
   "metadata": {},
   "outputs": [
    {
     "output_type": "execute_result",
     "data": {
      "text/plain": [
       "{'GARRIDO GONZALEZ (Felipe, Javier)': {'date': '27/06/2021'},\n",
       " 'dep': '013',\n",
       " 'country': 'Chili'}"
      ]
     },
     "metadata": {},
     "execution_count": 5
    }
   ],
   "source": [
    "felipe.search_person(first_name=\"Felipe\",last_name=\"Garrido\")"
   ]
  },
  {
   "cell_type": "code",
   "execution_count": null,
   "metadata": {},
   "outputs": [],
   "source": []
  }
 ]
}