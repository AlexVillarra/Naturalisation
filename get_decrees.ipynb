{
 "cells": [
  {
   "cell_type": "code",
   "execution_count": 1,
   "metadata": {},
   "outputs": [],
   "source": [
    "from reader import Reader"
   ]
  },
  {
   "cell_type": "code",
   "execution_count": 2,
   "metadata": {},
   "outputs": [
    {
     "name": "stdout",
     "output_type": "stream",
     "text": [
      "Naturalized of serie 027 : 699\n"
     ]
    }
   ],
   "source": [
    "yo = Reader(serie= \"027\")"
   ]
  },
  {
   "cell_type": "code",
   "execution_count": 3,
   "metadata": {},
   "outputs": [
    {
     "data": {
      "text/plain": [
       "{'VILLARREAL LARRAURI (Alejandro)': {'date': '23/06/2021'},\n",
       " 'dep': '013',\n",
       " 'country': 'Mexique'}"
      ]
     },
     "execution_count": 3,
     "metadata": {},
     "output_type": "execute_result"
    }
   ],
   "source": [
    "yo.search_person(first_name=\"Alejandro\",last_name=\"Villarreal\")"
   ]
  },
  {
   "cell_type": "code",
   "execution_count": 4,
   "metadata": {},
   "outputs": [
    {
     "name": "stdout",
     "output_type": "stream",
     "text": [
      "Naturalized of serie 029 until Journal of 29/11/2020: 0\n",
      "Naturalized of serie 029 until Journal of 06/12/2020: 0\n",
      "Naturalized of serie 029 until Journal of 09/12/2020: 0\n",
      "Naturalized of serie 029 until Journal of 23/12/2020: 0\n",
      "Naturalized of serie 029 until Journal of 27/12/2020: 6\n",
      "Naturalized of serie 029 until Journal of 21/01/2021: 9\n",
      "Naturalized of serie 029 until Journal of 07/02/2021: 9\n",
      "Naturalized of serie 029 until Journal of 17/02/2021: 9\n",
      "Naturalized of serie 029 until Journal of 24/02/2021: 11\n",
      "Naturalized of serie 029 until Journal of 27/02/2021: 13\n",
      "Naturalized of serie 029 until Journal of 07/03/2021: 16\n",
      "Naturalized of serie 029 until Journal of 21/03/2021: 22\n",
      "Naturalized of serie 029 until Journal of 02/05/2021: 111\n",
      "Naturalized of serie 029 until Journal of 08/05/2021: 165\n",
      "Naturalized of serie 029 until Journal of 13/05/2021: 221\n",
      "Naturalized of serie 029 until Journal of 16/05/2021: 238\n",
      "Naturalized of serie 029 until Journal of 28/05/2021: 272\n",
      "Naturalized of serie 029 until Journal of 09/06/2021: 289\n",
      "Naturalized of serie 029 until Journal of 23/06/2021: 408\n",
      "Naturalized of serie 029 until Journal of 27/06/2021: 575\n",
      "Naturalized of serie 029 until Journal of 07/07/2021: 589\n",
      "Naturalized of serie 029 until Journal of 07/07/2021: 589\n"
     ]
    }
   ],
   "source": [
    "yo.search_serie(serie = \"029\")"
   ]
  },
  {
   "cell_type": "code",
   "execution_count": 5,
   "metadata": {},
   "outputs": [
    {
     "data": {
      "text/plain": [
       "{'GARRIDO GONZALEZ (Felipe, Javier)': {'date': '27/06/2021'},\n",
       " 'dep': '013',\n",
       " 'country': 'Chili'}"
      ]
     },
     "execution_count": 5,
     "metadata": {},
     "output_type": "execute_result"
    }
   ],
   "source": [
    "yo.search_person(first_name=\"Felipe\",last_name=\"Garrido\")"
   ]
  },
  {
   "cell_type": "code",
   "execution_count": null,
   "metadata": {},
   "outputs": [],
   "source": []
  }
 ],
 "metadata": {
  "interpreter": {
   "hash": "478afeb8bea9a613deb43aac7cde1d5b7a19b84eee662d1039ff3cdd07cab283"
  },
  "kernelspec": {
   "display_name": "Python 3.9.1 64-bit ('Python39': pyenv)",
   "name": "python3"
  },
  "language_info": {
   "codemirror_mode": {
    "name": "ipython",
    "version": 3
   },
   "file_extension": ".py",
   "mimetype": "text/x-python",
   "name": "python",
   "nbconvert_exporter": "python",
   "pygments_lexer": "ipython3",
   "version": "3.9.1"
  },
  "metadata": {
   "interpreter": {
    "hash": "478afeb8bea9a613deb43aac7cde1d5b7a19b84eee662d1039ff3cdd07cab283"
   }
  },
  "orig_nbformat": 2
 },
 "nbformat": 4,
 "nbformat_minor": 2
}